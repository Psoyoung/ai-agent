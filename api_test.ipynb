{
 "cells": [
  {
   "cell_type": "code",
   "execution_count": 1,
   "metadata": {},
   "outputs": [],
   "source": [
    "import requests\n",
    "\n",
    "# Flask 서버 URL\n",
    "base_url = \"http://localhost:5000\""
   ]
  },
  {
   "cell_type": "code",
   "execution_count": 10,
   "metadata": {},
   "outputs": [
    {
     "name": "stdout",
     "output_type": "stream",
     "text": [
      "Health Check Response: {'status': 'healthy'}\n"
     ]
    }
   ],
   "source": [
    "\n",
    "# 건강 상태 확인\n",
    "response = requests.get(f\"{base_url}/health\")\n",
    "print(\"Health Check Response:\", response.json())"
   ]
  },
  {
   "cell_type": "code",
   "execution_count": 2,
   "metadata": {},
   "outputs": [
    {
     "name": "stdout",
     "output_type": "stream",
     "text": [
      "Generated Text: {'error': \"name 'openai' is not defined\"}\n"
     ]
    }
   ],
   "source": [
    "# 텍스트 생성 테스트\n",
    "data = {\"prompt\": \"안녕\"}\n",
    "response = requests.post(f\"{base_url}/generate\", json=data)\n",
    "print(\"Generated Text:\", response.json())"
   ]
  },
  {
   "cell_type": "code",
   "execution_count": 4,
   "metadata": {},
   "outputs": [
    {
     "name": "stdout",
     "output_type": "stream",
     "text": [
      "Error Response: {'error': 'Prompt is required.'}\n"
     ]
    }
   ],
   "source": [
    "# 에러 처리 테스트 (잘못된 요청)\n",
    "data = {\"wrong_key\": \"This should cause an error\"}\n",
    "response = requests.post(f\"{base_url}/generate\", json=data)\n",
    "print(\"Error Response:\", response.json())"
   ]
  },
  {
   "cell_type": "code",
   "execution_count": null,
   "metadata": {},
   "outputs": [],
   "source": []
  }
 ],
 "metadata": {
  "kernelspec": {
   "display_name": "venv",
   "language": "python",
   "name": "python3"
  },
  "language_info": {
   "codemirror_mode": {
    "name": "ipython",
    "version": 3
   },
   "file_extension": ".py",
   "mimetype": "text/x-python",
   "name": "python",
   "nbconvert_exporter": "python",
   "pygments_lexer": "ipython3",
   "version": "3.12.7"
  }
 },
 "nbformat": 4,
 "nbformat_minor": 2
}
